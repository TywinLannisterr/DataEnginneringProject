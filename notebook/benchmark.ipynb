{
 "cells": [
  {
   "cell_type": "markdown",
   "id": "baa4743d-e7a4-4440-b6f1-98daf7f8842c",
   "metadata": {},
   "source": [
    "# Context Setup"
   ]
  },
  {
   "cell_type": "code",
   "execution_count": 1,
   "id": "b6809856-6398-41a4-b321-9955838654a8",
   "metadata": {},
   "outputs": [
    {
     "name": "stderr",
     "output_type": "stream",
     "text": [
      "22/03/17 09:56:19 WARN NativeCodeLoader: Unable to load native-hadoop library for your platform... using builtin-java classes where applicable\n",
      "Using Spark's default log4j profile: org/apache/spark/log4j-defaults.properties\n",
      "Setting default log level to \"WARN\".\n",
      "To adjust logging level use sc.setLogLevel(newLevel). For SparkR, use setLogLevel(newLevel).\n",
      "22/03/17 09:56:22 WARN ExecutorAllocationManager: Dynamic allocation without a shuffle service is an experimental feature.\n"
     ]
    }
   ],
   "source": [
    "from pprint import pprint\n",
    "from pyspark.sql import SparkSession\n",
    "import matplotlib.pyplot as plt\n",
    "from tabulate import tabulate\n",
    "import numpy as np\n",
    "from timeit import default_timer as timer\n",
    "\n",
    "# Setup spark session\n",
    "spark_session = SparkSession\\\n",
    "        .builder\\\n",
    "        .master(\"spark://192.168.2.102:7077\")\\\n",
    "        .config(\"spark.dynamicAllocation.enabled\", True)\\\n",
    "        .config(\"spark.dynamicAllocation.shuffleTracking.enabled\",True)\\\n",
    "        .config(\"spark.shuffle.service.enabled\", False)\\\n",
    "        .config(\"spark.dynamicAllocation.executorIdleTimeout\",\"100s\")\\\n",
    "        .config(\"spark.sql.broadcastTimeout\",\"600s\")\\\n",
    "        .config(\"spark.executor.cores\",2)\\\n",
    "        .config(\"spark.executor.memory\",'4g')\\\n",
    "        .config(\"spark.driver.port\",9998)\\\n",
    "        .config(\"spark.blockManager.port\",10005)\\\n",
    "        .appName(\"Benchmark\")\\\n",
    "        .getOrCreate()\n",
    "\n",
    "# Old API (RDD)\n",
    "spark_context = spark_session.sparkContext\n",
    "\n",
    "spark_context.setLogLevel(\"ERROR\")"
   ]
  },
  {
   "cell_type": "markdown",
   "id": "326266c1-7868-4579-ad38-c1e1bc6aa6c1",
   "metadata": {},
   "source": [
    "# Benchmarking"
   ]
  },
  {
   "cell_type": "code",
   "execution_count": 2,
   "id": "a03f0b6e-ec9f-4e18-bd98-81681c34fdfa",
   "metadata": {},
   "outputs": [],
   "source": [
    "start_time = timer()"
   ]
  },
  {
   "cell_type": "markdown",
   "id": "1a3b0eef-4a5c-4075-a522-b30e86544827",
   "metadata": {},
   "source": [
    "## Import and prepare data"
   ]
  },
  {
   "cell_type": "code",
   "execution_count": 3,
   "id": "bced7617-a3c1-4fbd-afaa-4defd8541736",
   "metadata": {},
   "outputs": [
    {
     "name": "stderr",
     "output_type": "stream",
     "text": [
      "                                                                                \r"
     ]
    }
   ],
   "source": [
    "#Import data\n",
    "data_frame = spark_session.read\\\n",
    "    .option(\"header\", \"true\")\\\n",
    "    .csv('hdfs://192.168.2.102:9000/data_2021/*.csv')\n",
    "\n",
    "#Remove unnecessary columns\n",
    "column_filter = [\"date\",\"serial_number\",\"model\",\"failure\",\"smart_9_raw\"]\n",
    "filtered_df = data_frame.select(*column_filter).cache()"
   ]
  },
  {
   "cell_type": "markdown",
   "id": "ce4a107a-f763-40c5-8b5c-7289d3d7849e",
   "metadata": {},
   "source": [
    "## Task 1"
   ]
  },
  {
   "cell_type": "code",
   "execution_count": 4,
   "id": "241d68dd-f3de-46d4-81a0-71e4d0c0ffb5",
   "metadata": {},
   "outputs": [
    {
     "name": "stderr",
     "output_type": "stream",
     "text": [
      "                                                                                \r"
     ]
    }
   ],
   "source": [
    "num_drives_by_date = filtered_df.groupBy(\"date\").count().orderBy(\"date\").collect()"
   ]
  },
  {
   "cell_type": "markdown",
   "id": "9521f8ad-fbbb-4f2f-9b0f-3128e36d3b67",
   "metadata": {},
   "source": [
    "## Task 2"
   ]
  },
  {
   "cell_type": "code",
   "execution_count": 5,
   "id": "cb32a19a-5d95-47e5-9f61-72c75b1e77c2",
   "metadata": {},
   "outputs": [
    {
     "name": "stderr",
     "output_type": "stream",
     "text": [
      "                                                                                \r"
     ]
    }
   ],
   "source": [
    "num_failures_by_date = filtered_df.filter(filtered_df[\"failure\"] == 1).groupBy(\"date\").count().collect()"
   ]
  },
  {
   "cell_type": "markdown",
   "id": "60bf0104-c461-4c54-bb0d-a2d34b635acd",
   "metadata": {},
   "source": [
    "## Task 3"
   ]
  },
  {
   "cell_type": "code",
   "execution_count": 6,
   "id": "b95955aa-3abe-4089-a432-446c70942e02",
   "metadata": {},
   "outputs": [
    {
     "name": "stderr",
     "output_type": "stream",
     "text": [
      "22/03/17 09:58:05 ERROR TaskSchedulerImpl: Lost executor 1 on 192.168.2.55: Remote RPC client disassociated. Likely due to containers exceeding thresholds, or network issues. Check driver logs for WARN messages.\n",
      "                                                                                \r"
     ]
    }
   ],
   "source": [
    "failures_by_model = filtered_df.filter(filtered_df[\"failure\"] == 1).groupBy(\"model\").count().withColumnRenamed(\"count\",\"failure_count\")\n",
    "model_count = filtered_df.select(\"model\",\"serial_number\").distinct().groupBy(\"model\").count()\n",
    "accu_count = model_count.join(failures_by_model,\"model\")\n",
    "accu_fail = accu_count.withColumn('failure_rate', accu_count['failure_count'].cast('float')/accu_count['count'].cast('float')*1000)\n",
    "result = accu_fail.orderBy(\"failure_rate\").take(10)"
   ]
  },
  {
   "cell_type": "markdown",
   "id": "9be221c9-032b-4646-879b-a5d9b814aae8",
   "metadata": {},
   "source": [
    "## Task 4"
   ]
  },
  {
   "cell_type": "code",
   "execution_count": 7,
   "id": "168f3771-a082-4e52-94fd-f58a116bd56a",
   "metadata": {},
   "outputs": [
    {
     "name": "stderr",
     "output_type": "stream",
     "text": [
      "                                                                                \r"
     ]
    }
   ],
   "source": [
    "time_on_before_failed = filtered_df.filter(filtered_df[\"failure\"] == 1).select(\"smart_9_raw\").collect()"
   ]
  },
  {
   "cell_type": "code",
   "execution_count": 8,
   "id": "459ef375-fd6c-4359-9daa-5c7ecd0bad53",
   "metadata": {},
   "outputs": [
    {
     "data": {
      "text/plain": [
       "170.83874857999763"
      ]
     },
     "execution_count": 8,
     "metadata": {},
     "output_type": "execute_result"
    }
   ],
   "source": [
    "timer() - start_time"
   ]
  },
  {
   "cell_type": "markdown",
   "id": "f73abdbb-a18d-4e41-9747-676726771e35",
   "metadata": {},
   "source": [
    "# Finish"
   ]
  },
  {
   "cell_type": "code",
   "execution_count": 9,
   "id": "bc90360b-4f17-4c71-ad30-36524811c7ee",
   "metadata": {},
   "outputs": [],
   "source": [
    "spark_session.stop()"
   ]
  },
  {
   "cell_type": "code",
   "execution_count": null,
   "id": "14b7e293-481f-4d6f-9d58-42d178bdf1b1",
   "metadata": {},
   "outputs": [],
   "source": []
  }
 ],
 "metadata": {
  "kernelspec": {
   "display_name": "Python 3 (ipykernel)",
   "language": "python",
   "name": "python3"
  },
  "language_info": {
   "codemirror_mode": {
    "name": "ipython",
    "version": 3
   },
   "file_extension": ".py",
   "mimetype": "text/x-python",
   "name": "python",
   "nbconvert_exporter": "python",
   "pygments_lexer": "ipython3",
   "version": "3.8.10"
  }
 },
 "nbformat": 4,
 "nbformat_minor": 5
}
